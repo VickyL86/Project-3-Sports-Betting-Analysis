{
 "cells": [
  {
   "cell_type": "markdown",
   "metadata": {},
   "source": [
    "Data Scraping Notebook"
   ]
  },
  {
   "cell_type": "code",
   "execution_count": null,
   "metadata": {},
   "outputs": [],
   "source": [
    "# Import dependencies\n",
    "from splinter import Browser\n",
    "from bs4 import BeautifulSoup\n",
    "import pandas as pd\n",
    "\n",
    "# Import the API key\n",
    "from config import geoapify_key\n",
    "from config import census_key\n",
    "\n",
    "\n",
    "# Launch the browser\n",
    "browser = Browser('chrome')"
   ]
  },
  {
   "cell_type": "markdown",
   "metadata": {},
   "source": [
    "Create a \"dictionary\" list listing all states - Createing the list will help to make sure all states are listed and no state data will be lost in dataframe merges that will follow. "
   ]
  },
  {
   "cell_type": "code",
   "execution_count": null,
   "metadata": {},
   "outputs": [],
   "source": [
    "# Set the URL to visit to a variable\n",
    "url_states = \"https://developers.google.com/public-data/docs/canonical/states_csv\"\n",
    "\n",
    "# Send the browser to the URL\n",
    "browser.visit(url_states)\n",
    "\n",
    "# Save the HTML from the browser\n",
    "html = browser.html\n",
    "\n",
    "# Create a BeautifulSoup object from the HTML\n",
    "soup = BeautifulSoup(html, 'html.parser')"
   ]
  },
  {
   "cell_type": "code",
   "execution_count": null,
   "metadata": {},
   "outputs": [],
   "source": [
    "#find all divs that contain state marker\n",
    "table_state = soup.find('div', class_='devsite-table-wrapper')"
   ]
  },
  {
   "cell_type": "code",
   "execution_count": null,
   "metadata": {},
   "outputs": [],
   "source": [
    "#Extract state-specific tax data from the table and build a dictionary of the data. \n",
    "state = {}\n",
    "\n",
    "# Find the table element\n",
    "state_list = []\n",
    "\n",
    "\n",
    "# Check if the table is found\n",
    "if table_state:\n",
    "    # Find all rows in the table body\n",
    "    rows = table_state.select('tbody tr')\n",
    "\n",
    "    # Loop through the rows\n",
    "    for row in rows:\n",
    "        # Find all cells in the row\n",
    "        cells = row.select('td')\n",
    "        \n",
    "        # Check if there are cells in the row\n",
    "        if cells:\n",
    "            # Extract data from the cells\n",
    "            state = cells[0].text.strip()\n",
    "            lat = cells[1].text.strip()\n",
    "            lon = cells[2].text.strip()\n",
    "            name = cells[3].text.strip()\n",
    "            \n",
    "            # Create a dictionary for the current state\n",
    "            state = {'state_abbr': state, 'state': name}\n",
    "            \n",
    "            # Append the state data dictionary to the list\n",
    "            state_list.append(state)\n",
    "\n",
    "# Print the extracted data\n",
    "#for state in state_list:\n",
    "    #print(state)"
   ]
  },
  {
   "cell_type": "code",
   "execution_count": null,
   "metadata": {},
   "outputs": [],
   "source": [
    "#load scraped state data into dataframe\n",
    "state_df = pd.DataFrame(state_list)\n",
    "#save dataframe to csv\n",
    "state_df.to_csv('Resources/state_list.csv', index=False)"
   ]
  },
  {
   "cell_type": "markdown",
   "metadata": {},
   "source": [
    "1. Which states require payment of state taxes on gambling winnings?\n",
    "\n",
    " A table showing the latest information regarding which states tax gambling winnings. Keep in mind that each state that requires state tax on gambling income has its own tax rate and guidelines. In some cases, gambling winnings are subject to state tax except for lottery winnings."
   ]
  },
  {
   "cell_type": "code",
   "execution_count": null,
   "metadata": {},
   "outputs": [],
   "source": [
    "# Set the URL to visit to a variable\n",
    "url = \"https://www.playusa.com/taxes/\"\n",
    "\n",
    "# Send the browser to the URL\n",
    "browser.visit(url)\n",
    "\n",
    "# Save the HTML from the browser\n",
    "html = browser.html\n",
    "\n",
    "# Create a BeautifulSoup object from the HTML\n",
    "soup = BeautifulSoup(html, 'html.parser')"
   ]
  },
  {
   "cell_type": "code",
   "execution_count": null,
   "metadata": {},
   "outputs": [],
   "source": [
    "#find all divs that contain state marker\n",
    "table = soup.find('table', class_='tablepress-responsive')"
   ]
  },
  {
   "cell_type": "code",
   "execution_count": null,
   "metadata": {},
   "outputs": [],
   "source": [
    "#Extract state-specific tax data from the table and build a dictionary of the data. \n",
    "state_tax = {}\n",
    "\n",
    "# Find the table element\n",
    "state_tax_list = []\n",
    "\n",
    "# Find the table element\n",
    "#table = soup.find('table', {'class': 'tablepress'})\n",
    "\n",
    "# Check if the table is found\n",
    "if table:\n",
    "    # Find all rows in the table body\n",
    "    rows = table.select('tbody tr')\n",
    "\n",
    "    # Loop through the rows\n",
    "    for row in rows:\n",
    "        # Find all cells in the row\n",
    "        cells = row.select('td')\n",
    "        \n",
    "        # Check if there are cells in the row\n",
    "        if cells:\n",
    "            # Extract data from the cells\n",
    "            state = cells[0].text.strip()\n",
    "            tax_status = cells[1].text.strip()\n",
    "            \n",
    "            # Create a dictionary for the current state\n",
    "            state_data = {'state': state, 'tax_status': tax_status}\n",
    "            \n",
    "            # Append the state data dictionary to the list\n",
    "            state_tax_list.append(state_data)\n",
    "\n",
    "# Print the extracted data\n",
    "for state_data in state_tax_list:\n",
    "    print(state_data)"
   ]
  },
  {
   "cell_type": "code",
   "execution_count": null,
   "metadata": {},
   "outputs": [],
   "source": [
    "#create a dataframe from the state_data dictionary of lists and display the first 5 rows\n",
    "state_tax_df = pd.DataFrame(state_tax_list)\n",
    "state_tax_df.head()"
   ]
  },
  {
   "cell_type": "code",
   "execution_count": null,
   "metadata": {},
   "outputs": [],
   "source": [
    "#replace D.C. to District of Columbia in the state column\n",
    "state_tax_df['state'] = state_tax_df['state'].replace('D.C.', 'District of Columbia')"
   ]
  },
  {
   "cell_type": "markdown",
   "metadata": {},
   "source": [
    "Combining the tax information with the full list of states to ensure all states are listed for merges that follow. "
   ]
  },
  {
   "cell_type": "code",
   "execution_count": null,
   "metadata": {},
   "outputs": [],
   "source": [
    "#merge state_df and state_tax_df\n",
    "state_tax_df = state_df.merge(state_tax_df, on='state', how='left')"
   ]
  },
  {
   "cell_type": "code",
   "execution_count": null,
   "metadata": {},
   "outputs": [],
   "source": [
    "state_tax_df.to_csv('Resources/state_tax_df.csv', index=False)"
   ]
  },
  {
   "cell_type": "markdown",
   "metadata": {},
   "source": [
    "2. Scrape the running total for sports betting handle and revenue reported to date across all active markets:"
   ]
  },
  {
   "cell_type": "code",
   "execution_count": null,
   "metadata": {},
   "outputs": [],
   "source": [
    "# Set the URL to visit to a variable\n",
    "url = \"https://www.legalsportsreport.com/sports-betting/revenue/\"\n",
    "\n",
    "# Send the browser to the URL\n",
    "browser.visit(url)\n",
    "\n",
    "# Save the HTML from the browser\n",
    "html = browser.html\n",
    "\n",
    "# Create a BeautifulSoup object from the HTML\n",
    "soup = BeautifulSoup(html, 'html.parser')"
   ]
  },
  {
   "cell_type": "code",
   "execution_count": null,
   "metadata": {},
   "outputs": [],
   "source": [
    "rev_table = soup.find('table', class_='tablepress-id-Rev_Markets')"
   ]
  },
  {
   "cell_type": "code",
   "execution_count": null,
   "metadata": {},
   "outputs": [],
   "source": [
    "# Create an empty list to store market data\n",
    "market_data_list = []\n",
    "\n",
    "# Find the table element\n",
    "#rev_table = soup.find('table', {'class': 'tablepress'})\n",
    "\n",
    "# Check if the table is found\n",
    "if rev_table:\n",
    "    # Find all rows in the table body\n",
    "    rows = rev_table.select('tbody tr')\n",
    "\n",
    "    # Loop through the rows\n",
    "    for row in rows:\n",
    "        # Find all cells in the row\n",
    "        cells = row.select('td')\n",
    "        \n",
    "        # Check if there are cells in the row\n",
    "        if cells:\n",
    "            # Extract data from the cells\n",
    "            market = cells[0].text.strip()\n",
    "            handle = cells[1].text.strip()\n",
    "            revenue = cells[2].text.strip()\n",
    "            hold = cells[3].text.strip()\n",
    "            taxes = cells[4].text.strip()\n",
    "            \n",
    "            # Create a dictionary for the current market\n",
    "            market_data = {'state': market, 'handle': handle, 'revenue': revenue, 'hold': hold, 'taxes': taxes}\n",
    "            \n",
    "            # Append the market data dictionary to the list\n",
    "            market_data_list.append(market_data)\n",
    "\n",
    "# Print the extracted data\n",
    "for market_data in market_data_list:\n",
    "    print(market_data)"
   ]
  },
  {
   "cell_type": "code",
   "execution_count": null,
   "metadata": {},
   "outputs": [],
   "source": [
    "market_rev_df = pd.DataFrame(market_data_list)\n",
    "market_rev_df.head(51)"
   ]
  },
  {
   "cell_type": "code",
   "execution_count": null,
   "metadata": {},
   "outputs": [],
   "source": [
    "#replace \"?\"\" in market_rev_df for handle, revenue, hold, and taxes with 0\n",
    "market_rev_df = market_rev_df.replace({'?': 0})"
   ]
  },
  {
   "cell_type": "markdown",
   "metadata": {},
   "source": [
    "Combining the tax information with the full list of states to ensure all states are listed for merges that follow. "
   ]
  },
  {
   "cell_type": "code",
   "execution_count": null,
   "metadata": {},
   "outputs": [],
   "source": [
    "#merge state_df and market_rev_df by state\n",
    "state_rev_df = state_df.merge(market_rev_df, on='state', how='left')\n",
    "#state_rev_df.head()\n",
    "state_rev_df.head(51)"
   ]
  },
  {
   "cell_type": "code",
   "execution_count": null,
   "metadata": {},
   "outputs": [],
   "source": [
    "#replace NaN with 0\n",
    "state_rev_df = state_rev_df.fillna(0)"
   ]
  },
  {
   "cell_type": "markdown",
   "metadata": {},
   "source": [
    "Adding the sports league detail to the revenue by state df."
   ]
  },
  {
   "cell_type": "code",
   "execution_count": null,
   "metadata": {},
   "outputs": [],
   "source": [
    "#add sport league info to the market revenue data frame - data added from a csv file copied from WIKI https://en.wikipedia.org/wiki/Major_professional_sports_teams_of_the_United_States_and_Canada#:~:text=Teams%20%20%20%20Team%20%20%20,%20%20MLB%20%2018%20more%20rows%20\n",
    "#file previously copied directly and saved in the csv format\n",
    "#read the csv file\n",
    "us_major_teams_df = pd.read_csv('Resources/us_major_teams.csv')\n",
    "us_major_teams_df.head()\n"
   ]
  },
  {
   "cell_type": "code",
   "execution_count": null,
   "metadata": {},
   "outputs": [],
   "source": [
    "# Create a summary DataFrame to count unique teams and leagues per state\n",
    "summary_data = []\n",
    "\n",
    "# Get unique states\n",
    "unique_states = us_major_teams_df['State/Province'].unique()\n",
    "\n",
    "for state in unique_states:\n",
    "    state_teams = us_major_teams_df[us_major_teams_df['State/Province'] == state]\n",
    "    total_teams = state_teams['Team'].nunique()\n",
    "    \n",
    "    state_summary = {'state': state, 'Teams Count': total_teams}\n",
    "    \n",
    "    # Count teams for each league\n",
    "    leagues = ['MLB', 'NBA', 'NFL', 'NHL', 'MLS', 'NCAA']\n",
    "    for league in leagues:\n",
    "        league_count = state_teams[state_teams['League'] == league]['Team'].nunique()\n",
    "        state_summary[league] = league_count\n",
    "    \n",
    "    summary_data.append(state_summary)\n",
    "\n",
    "# Create the summary DataFrame\n",
    "summary_df = pd.DataFrame(summary_data)\n",
    "\n",
    "# Display the summary DataFrame\n",
    "print(summary_df)\n",
    "\n"
   ]
  },
  {
   "cell_type": "code",
   "execution_count": null,
   "metadata": {},
   "outputs": [],
   "source": [
    "#merge market_rev_df with summary_df with by state with join on state \n",
    "merged_state_rev_league_df = pd.merge(state_rev_df, summary_df, on='state', how='left')\n",
    "\n",
    "# Display the merged DataFrame\n",
    "merged_state_rev_league_df.head(51)\n"
   ]
  },
  {
   "cell_type": "code",
   "execution_count": null,
   "metadata": {},
   "outputs": [],
   "source": [
    "#show datatype for each column \n",
    "merged_state_rev_league_df.dtypes"
   ]
  },
  {
   "cell_type": "code",
   "execution_count": null,
   "metadata": {},
   "outputs": [],
   "source": [
    "# Remove '$' and ',' and convert to float\n",
    "merged_state_rev_league_df['handle'] = merged_state_rev_league_df['handle'].str.replace('[\\$,]', '', regex=True).astype(float)\n",
    "merged_state_rev_league_df['revenue'] = merged_state_rev_league_df['revenue'].str.replace('[\\$,]', '', regex=True).astype(float)\n",
    "merged_state_rev_league_df['taxes'] = merged_state_rev_league_df['taxes'].str.replace('[\\$,]', '', regex=True).astype(float)\n",
    "\n",
    "# Set the float format\n",
    "pd.options.display.float_format = '{:.2f}'.format"
   ]
  },
  {
   "cell_type": "code",
   "execution_count": null,
   "metadata": {},
   "outputs": [],
   "source": [
    "def convert_percentage(percentage_value):\n",
    "    if isinstance(percentage_value, str) and percentage_value != '':\n",
    "        return float(percentage_value.replace('%', '')) / 100\n",
    "    else:\n",
    "        return 0.0  # Handle empty strings and non-string values by returning 0.0\n",
    "\n",
    "merged_state_rev_league_df['hold'] = merged_state_rev_league_df['hold'].apply(convert_percentage)"
   ]
  },
  {
   "cell_type": "code",
   "execution_count": null,
   "metadata": {},
   "outputs": [],
   "source": [
    "#Datframe cleanup before loading into csv:\n",
    "merged_state_rev_league_df = merged_state_rev_league_df.fillna(0)"
   ]
  },
  {
   "cell_type": "code",
   "execution_count": null,
   "metadata": {},
   "outputs": [],
   "source": [
    "# Display the merged DataFrame\n",
    "merged_state_rev_league_df.head(51)"
   ]
  },
  {
   "cell_type": "code",
   "execution_count": null,
   "metadata": {},
   "outputs": [],
   "source": [
    "market_rev_df.to_csv('Resources/market_rev_df.csv', index=False)"
   ]
  },
  {
   "cell_type": "markdown",
   "metadata": {},
   "source": [
    "3. US sports betting revenue by month"
   ]
  },
  {
   "cell_type": "code",
   "execution_count": null,
   "metadata": {},
   "outputs": [],
   "source": [
    "month_rev_table = soup.find('table', class_='tablepress-id-Rev_Months')"
   ]
  },
  {
   "cell_type": "code",
   "execution_count": null,
   "metadata": {},
   "outputs": [],
   "source": [
    "# Create an empty list to store market data\n",
    "month_data_list = []\n",
    "\n",
    "# Find the table element\n",
    "#rev_table = soup.find('table', {'class': 'tablepress'})\n",
    "\n",
    "# Check if the table is found\n",
    "if month_rev_table:\n",
    "    # Find all rows in the table body\n",
    "    rows = month_rev_table.select('tbody tr')\n",
    "\n",
    "    # Loop through the rows\n",
    "    for row in rows:\n",
    "        # Find all cells in the row\n",
    "        cells = row.select('td')\n",
    "        \n",
    "        # Check if there are cells in the row\n",
    "        if cells:\n",
    "            # Extract data from the cells\n",
    "            month = cells[0].text.strip()\n",
    "            handle = cells[1].text.strip()\n",
    "            revenue = cells[2].text.strip()\n",
    "            hold = cells[3].text.strip()\n",
    "            taxes = cells[4].text.strip()\n",
    "            \n",
    "            # Create a dictionary for the current market\n",
    "            timeline_data = {'month': month, 'handle': handle, 'revenue': revenue, 'hold': hold, 'taxes': taxes}\n",
    "            \n",
    "            # Append the market data dictionary to the list\n",
    "            month_data_list.append(timeline_data)\n",
    "\n",
    "# Print the extracted data\n",
    "for timeline_data in month_data_list:\n",
    "    print(timeline_data)"
   ]
  },
  {
   "cell_type": "code",
   "execution_count": null,
   "metadata": {},
   "outputs": [],
   "source": [
    "month_rev_data_df = pd.DataFrame(month_data_list)\n",
    "month_rev_data_df.head(5)"
   ]
  },
  {
   "cell_type": "code",
   "execution_count": null,
   "metadata": {},
   "outputs": [],
   "source": [
    "#data cleaning before saving the csv file\n",
    "# Remove '$' and ',' and convert to float\n",
    "month_rev_data_df['handle'] = month_rev_data_df['handle'].str.replace('[\\$,]', '', regex=True).astype(float)\n",
    "month_rev_data_df['revenue'] = month_rev_data_df['revenue'].str.replace('[\\$,]', '', regex=True).astype(float)\n",
    "month_rev_data_df['taxes'] = month_rev_data_df['taxes'].str.replace('[\\$,]', '', regex=True).astype(float)\n",
    "\n",
    "# Set the float format\n",
    "pd.options.display.float_format = '{:.2f}'.format"
   ]
  },
  {
   "cell_type": "code",
   "execution_count": null,
   "metadata": {},
   "outputs": [],
   "source": [
    "def convert_percentage(percentage_value):\n",
    "    if isinstance(percentage_value, str) and percentage_value != '':\n",
    "        return float(percentage_value.replace('%', '')) / 100\n",
    "    else:\n",
    "        return 0.0  # Handle empty strings and non-string values by returning 0.0\n",
    "\n",
    "month_rev_data_df['hold'] = month_rev_data_df['hold'].apply(convert_percentage)"
   ]
  },
  {
   "cell_type": "code",
   "execution_count": null,
   "metadata": {},
   "outputs": [],
   "source": [
    "month_rev_data_df.head(5)"
   ]
  },
  {
   "cell_type": "code",
   "execution_count": null,
   "metadata": {},
   "outputs": [],
   "source": [
    "month_rev_data_df.to_csv('Resources/month_rev_data_df.csv', index=False)"
   ]
  },
  {
   "cell_type": "markdown",
   "metadata": {},
   "source": [
    "3. Major Professional sports teams of the US and canada - Data did not scrape correctly due to table set up in Wikipedia - single cell overlap between the states etc--> pulled data by copying from excel --> if anyone wants to try you are more than welcome to dig in --> current file major_teams_usa.csv"
   ]
  },
  {
   "cell_type": "markdown",
   "metadata": {},
   "source": [
    "5. build a large data scrape loop to get each states data in a dataframe --> see if possible  "
   ]
  },
  {
   "cell_type": "markdown",
   "metadata": {},
   "source": [
    "4. Add geopify API to state list --> Map Leaflet Set up --> https://www.geoapify.com/boundaries-api"
   ]
  },
  {
   "cell_type": "markdown",
   "metadata": {},
   "source": [
    "5. Census population data was downloaded directly from the census tabular menu - no need to do an API. - https://data.census.gov/table - https://data.census.gov/table?q=B05003&g=010XX00US$0400000&tid=ACSDT1Y2021.B05003 - \n",
    "B05003SEX BY AGE BY NATIVITY AND CITIZENSHIP STATUS"
   ]
  },
  {
   "cell_type": "markdown",
   "metadata": {},
   "source": [
    "6. Summary by online vs in-person betting by state done via download - https://www.gamingtoday.com/states/ "
   ]
  }
 ],
 "metadata": {
  "kernelspec": {
   "display_name": "base",
   "language": "python",
   "name": "python3"
  },
  "language_info": {
   "codemirror_mode": {
    "name": "ipython",
    "version": 3
   },
   "file_extension": ".py",
   "mimetype": "text/x-python",
   "name": "python",
   "nbconvert_exporter": "python",
   "pygments_lexer": "ipython3",
   "version": "3.10.9"
  },
  "orig_nbformat": 4
 },
 "nbformat": 4,
 "nbformat_minor": 2
}
