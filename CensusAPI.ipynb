{
 "cells": [
  {
   "cell_type": "markdown",
   "metadata": {},
   "source": [
    "5. Census population data was downloaded directly from the census tabular menu - no need to do an API. - https://data.census.gov/table - https://data.census.gov/table?q=B05003&g=010XX00US$0400000&tid=ACSDT1Y2021.B05003 - \n",
    "B05003SEX BY AGE BY NATIVITY AND CITIZENSHIP STATUS"
   ]
  },
  {
   "cell_type": "code",
   "execution_count": null,
   "metadata": {},
   "outputs": [],
   "source": []
  }
 ],
 "metadata": {
  "language_info": {
   "name": "python"
  },
  "orig_nbformat": 4
 },
 "nbformat": 4,
 "nbformat_minor": 2
}
